{
  "nbformat": 4,
  "nbformat_minor": 0,
  "metadata": {
    "colab": {
      "provenance": [],
      "gpuType": "T4"
    },
    "kernelspec": {
      "name": "python3",
      "display_name": "Python 3"
    },
    "language_info": {
      "name": "python"
    },
    "accelerator": "GPU"
  },
  "cells": [
    {
      "cell_type": "code",
      "execution_count": null,
      "metadata": {
        "id": "ixCCGfUUJsb4"
      },
      "outputs": [],
      "source": [
        "from google.colab import files\n",
        "import os"
      ]
    },
    {
      "cell_type": "code",
      "source": [
        "print(\"Upload your kaggle.json (dans ~/.kaggle/kaggle.json)\")\n",
        "files.upload()\n",
        "os.makedirs('/root/.kaggle', exist_ok=True)\n",
        "os.replace('kaggle.json', '/root/.kaggle/kaggle.json')\n",
        "!chmod 600 /root/.kaggle/kaggle.json"
      ],
      "metadata": {
        "colab": {
          "base_uri": "https://localhost:8080/",
          "height": 91
        },
        "id": "HwYixPW_J8-h",
        "outputId": "f5ed3560-98b2-4d35-9943-965077a7a4ba"
      },
      "execution_count": null,
      "outputs": [
        {
          "output_type": "stream",
          "name": "stdout",
          "text": [
            "Upload your kaggle.json (dans ~/.kaggle/kaggle.json)\n"
          ]
        },
        {
          "output_type": "display_data",
          "data": {
            "text/plain": [
              "<IPython.core.display.HTML object>"
            ],
            "text/html": [
              "\n",
              "     <input type=\"file\" id=\"files-85d27762-4c60-4ad4-97b9-305ca9a8a271\" name=\"files[]\" multiple disabled\n",
              "        style=\"border:none\" />\n",
              "     <output id=\"result-85d27762-4c60-4ad4-97b9-305ca9a8a271\">\n",
              "      Upload widget is only available when the cell has been executed in the\n",
              "      current browser session. Please rerun this cell to enable.\n",
              "      </output>\n",
              "      <script>// Copyright 2017 Google LLC\n",
              "//\n",
              "// Licensed under the Apache License, Version 2.0 (the \"License\");\n",
              "// you may not use this file except in compliance with the License.\n",
              "// You may obtain a copy of the License at\n",
              "//\n",
              "//      http://www.apache.org/licenses/LICENSE-2.0\n",
              "//\n",
              "// Unless required by applicable law or agreed to in writing, software\n",
              "// distributed under the License is distributed on an \"AS IS\" BASIS,\n",
              "// WITHOUT WARRANTIES OR CONDITIONS OF ANY KIND, either express or implied.\n",
              "// See the License for the specific language governing permissions and\n",
              "// limitations under the License.\n",
              "\n",
              "/**\n",
              " * @fileoverview Helpers for google.colab Python module.\n",
              " */\n",
              "(function(scope) {\n",
              "function span(text, styleAttributes = {}) {\n",
              "  const element = document.createElement('span');\n",
              "  element.textContent = text;\n",
              "  for (const key of Object.keys(styleAttributes)) {\n",
              "    element.style[key] = styleAttributes[key];\n",
              "  }\n",
              "  return element;\n",
              "}\n",
              "\n",
              "// Max number of bytes which will be uploaded at a time.\n",
              "const MAX_PAYLOAD_SIZE = 100 * 1024;\n",
              "\n",
              "function _uploadFiles(inputId, outputId) {\n",
              "  const steps = uploadFilesStep(inputId, outputId);\n",
              "  const outputElement = document.getElementById(outputId);\n",
              "  // Cache steps on the outputElement to make it available for the next call\n",
              "  // to uploadFilesContinue from Python.\n",
              "  outputElement.steps = steps;\n",
              "\n",
              "  return _uploadFilesContinue(outputId);\n",
              "}\n",
              "\n",
              "// This is roughly an async generator (not supported in the browser yet),\n",
              "// where there are multiple asynchronous steps and the Python side is going\n",
              "// to poll for completion of each step.\n",
              "// This uses a Promise to block the python side on completion of each step,\n",
              "// then passes the result of the previous step as the input to the next step.\n",
              "function _uploadFilesContinue(outputId) {\n",
              "  const outputElement = document.getElementById(outputId);\n",
              "  const steps = outputElement.steps;\n",
              "\n",
              "  const next = steps.next(outputElement.lastPromiseValue);\n",
              "  return Promise.resolve(next.value.promise).then((value) => {\n",
              "    // Cache the last promise value to make it available to the next\n",
              "    // step of the generator.\n",
              "    outputElement.lastPromiseValue = value;\n",
              "    return next.value.response;\n",
              "  });\n",
              "}\n",
              "\n",
              "/**\n",
              " * Generator function which is called between each async step of the upload\n",
              " * process.\n",
              " * @param {string} inputId Element ID of the input file picker element.\n",
              " * @param {string} outputId Element ID of the output display.\n",
              " * @return {!Iterable<!Object>} Iterable of next steps.\n",
              " */\n",
              "function* uploadFilesStep(inputId, outputId) {\n",
              "  const inputElement = document.getElementById(inputId);\n",
              "  inputElement.disabled = false;\n",
              "\n",
              "  const outputElement = document.getElementById(outputId);\n",
              "  outputElement.innerHTML = '';\n",
              "\n",
              "  const pickedPromise = new Promise((resolve) => {\n",
              "    inputElement.addEventListener('change', (e) => {\n",
              "      resolve(e.target.files);\n",
              "    });\n",
              "  });\n",
              "\n",
              "  const cancel = document.createElement('button');\n",
              "  inputElement.parentElement.appendChild(cancel);\n",
              "  cancel.textContent = 'Cancel upload';\n",
              "  const cancelPromise = new Promise((resolve) => {\n",
              "    cancel.onclick = () => {\n",
              "      resolve(null);\n",
              "    };\n",
              "  });\n",
              "\n",
              "  // Wait for the user to pick the files.\n",
              "  const files = yield {\n",
              "    promise: Promise.race([pickedPromise, cancelPromise]),\n",
              "    response: {\n",
              "      action: 'starting',\n",
              "    }\n",
              "  };\n",
              "\n",
              "  cancel.remove();\n",
              "\n",
              "  // Disable the input element since further picks are not allowed.\n",
              "  inputElement.disabled = true;\n",
              "\n",
              "  if (!files) {\n",
              "    return {\n",
              "      response: {\n",
              "        action: 'complete',\n",
              "      }\n",
              "    };\n",
              "  }\n",
              "\n",
              "  for (const file of files) {\n",
              "    const li = document.createElement('li');\n",
              "    li.append(span(file.name, {fontWeight: 'bold'}));\n",
              "    li.append(span(\n",
              "        `(${file.type || 'n/a'}) - ${file.size} bytes, ` +\n",
              "        `last modified: ${\n",
              "            file.lastModifiedDate ? file.lastModifiedDate.toLocaleDateString() :\n",
              "                                    'n/a'} - `));\n",
              "    const percent = span('0% done');\n",
              "    li.appendChild(percent);\n",
              "\n",
              "    outputElement.appendChild(li);\n",
              "\n",
              "    const fileDataPromise = new Promise((resolve) => {\n",
              "      const reader = new FileReader();\n",
              "      reader.onload = (e) => {\n",
              "        resolve(e.target.result);\n",
              "      };\n",
              "      reader.readAsArrayBuffer(file);\n",
              "    });\n",
              "    // Wait for the data to be ready.\n",
              "    let fileData = yield {\n",
              "      promise: fileDataPromise,\n",
              "      response: {\n",
              "        action: 'continue',\n",
              "      }\n",
              "    };\n",
              "\n",
              "    // Use a chunked sending to avoid message size limits. See b/62115660.\n",
              "    let position = 0;\n",
              "    do {\n",
              "      const length = Math.min(fileData.byteLength - position, MAX_PAYLOAD_SIZE);\n",
              "      const chunk = new Uint8Array(fileData, position, length);\n",
              "      position += length;\n",
              "\n",
              "      const base64 = btoa(String.fromCharCode.apply(null, chunk));\n",
              "      yield {\n",
              "        response: {\n",
              "          action: 'append',\n",
              "          file: file.name,\n",
              "          data: base64,\n",
              "        },\n",
              "      };\n",
              "\n",
              "      let percentDone = fileData.byteLength === 0 ?\n",
              "          100 :\n",
              "          Math.round((position / fileData.byteLength) * 100);\n",
              "      percent.textContent = `${percentDone}% done`;\n",
              "\n",
              "    } while (position < fileData.byteLength);\n",
              "  }\n",
              "\n",
              "  // All done.\n",
              "  yield {\n",
              "    response: {\n",
              "      action: 'complete',\n",
              "    }\n",
              "  };\n",
              "}\n",
              "\n",
              "scope.google = scope.google || {};\n",
              "scope.google.colab = scope.google.colab || {};\n",
              "scope.google.colab._files = {\n",
              "  _uploadFiles,\n",
              "  _uploadFilesContinue,\n",
              "};\n",
              "})(self);\n",
              "</script> "
            ]
          },
          "metadata": {}
        },
        {
          "output_type": "stream",
          "name": "stdout",
          "text": [
            "Saving kaggle.json to kaggle.json\n"
          ]
        }
      ]
    },
    {
      "cell_type": "code",
      "source": [
        "!kaggle datasets download -d dhoogla/unswnb15\n",
        "\n",
        "!unzip -q unswnb15.zip -d ./unswnb15"
      ],
      "metadata": {
        "colab": {
          "base_uri": "https://localhost:8080/"
        },
        "id": "pGZGGS7IJ-JJ",
        "outputId": "5e38e585-158f-4479-be22-39e936027402"
      },
      "execution_count": null,
      "outputs": [
        {
          "output_type": "stream",
          "name": "stdout",
          "text": [
            "Dataset URL: https://www.kaggle.com/datasets/dhoogla/unswnb15\n",
            "License(s): CC-BY-NC-SA-4.0\n",
            "Downloading unswnb15.zip to /content\n",
            "  0% 0.00/11.7M [00:00<?, ?B/s]\n",
            "100% 11.7M/11.7M [00:00<00:00, 1.20GB/s]\n"
          ]
        }
      ]
    },
    {
      "cell_type": "code",
      "source": [
        "import pandas as pd\n",
        "import numpy as np\n",
        "import matplotlib.pyplot as plt\n",
        "import seaborn as sns\n",
        "from collections import deque\n",
        "import missingno as msno\n",
        "from sklearn.preprocessing import LabelEncoder, MinMaxScaler\n",
        "from sklearn.model_selection import train_test_split\n",
        "from sklearn.feature_selection import mutual_info_classif\n",
        "from sklearn.metrics import classification_report, roc_curve, auc\n",
        "import tensorflow as tf\n",
        "from tensorflow.keras.models import Sequential\n",
        "from tensorflow.keras.layers import LSTM, Dense, Dropout\n",
        "from tensorflow.keras.callbacks import EarlyStopping\n",
        "\n",
        "plt.style.use('ggplot')"
      ],
      "metadata": {
        "id": "AmZqKC4fKDhd"
      },
      "execution_count": null,
      "outputs": []
    },
    {
      "cell_type": "markdown",
      "source": [
        "# Chargement du dataset (format Parquet)"
      ],
      "metadata": {
        "id": "kYKmpOLUKGG3"
      }
    },
    {
      "cell_type": "code",
      "source": [
        "train_path = './unswnb15/UNSW_NB15_training-set.parquet'\n",
        "test_path  = './unswnb15/UNSW_NB15_testing-set.parquet'\n",
        "\n",
        "df_train = pd.read_parquet(train_path)\n",
        "df_test  = pd.read_parquet(test_path)\n",
        "df = pd.concat([df_train, df_test], ignore_index=True)\n",
        "print(f\"Loaded: train={df_train.shape}, test={df_test.shape}, combined={df.shape}\")\n",
        "df.info()"
      ],
      "metadata": {
        "colab": {
          "base_uri": "https://localhost:8080/"
        },
        "id": "ZydKmBZIKJz9",
        "outputId": "fb960e89-29db-45d7-a3aa-da26725e7744"
      },
      "execution_count": null,
      "outputs": [
        {
          "output_type": "stream",
          "name": "stdout",
          "text": [
            "Loaded: train=(175341, 36), test=(82332, 36), combined=(257673, 36)\n",
            "<class 'pandas.core.frame.DataFrame'>\n",
            "RangeIndex: 257673 entries, 0 to 257672\n",
            "Data columns (total 36 columns):\n",
            " #   Column             Non-Null Count   Dtype   \n",
            "---  ------             --------------   -----   \n",
            " 0   dur                257673 non-null  float32 \n",
            " 1   proto              257673 non-null  object  \n",
            " 2   service            257673 non-null  category\n",
            " 3   state              257673 non-null  object  \n",
            " 4   spkts              257673 non-null  int16   \n",
            " 5   dpkts              257673 non-null  int16   \n",
            " 6   sbytes             257673 non-null  int32   \n",
            " 7   dbytes             257673 non-null  int32   \n",
            " 8   rate               257673 non-null  float32 \n",
            " 9   sload              257673 non-null  float32 \n",
            " 10  dload              257673 non-null  float32 \n",
            " 11  sloss              257673 non-null  int16   \n",
            " 12  dloss              257673 non-null  int16   \n",
            " 13  sinpkt             257673 non-null  float32 \n",
            " 14  dinpkt             257673 non-null  float32 \n",
            " 15  sjit               257673 non-null  float32 \n",
            " 16  djit               257673 non-null  float32 \n",
            " 17  swin               257673 non-null  int16   \n",
            " 18  stcpb              257673 non-null  int64   \n",
            " 19  dtcpb              257673 non-null  int64   \n",
            " 20  dwin               257673 non-null  int16   \n",
            " 21  tcprtt             257673 non-null  float32 \n",
            " 22  synack             257673 non-null  float32 \n",
            " 23  ackdat             257673 non-null  float32 \n",
            " 24  smean              257673 non-null  int16   \n",
            " 25  dmean              257673 non-null  int16   \n",
            " 26  trans_depth        257673 non-null  int16   \n",
            " 27  response_body_len  257673 non-null  int32   \n",
            " 28  ct_src_dport_ltm   257673 non-null  int8    \n",
            " 29  ct_dst_sport_ltm   257673 non-null  int8    \n",
            " 30  is_ftp_login       257673 non-null  int8    \n",
            " 31  ct_ftp_cmd         257673 non-null  int8    \n",
            " 32  ct_flw_http_mthd   257673 non-null  int8    \n",
            " 33  is_sm_ips_ports    257673 non-null  int8    \n",
            " 34  attack_cat         257673 non-null  category\n",
            " 35  label              257673 non-null  int8    \n",
            "dtypes: category(2), float32(11), int16(9), int32(3), int64(2), int8(7), object(2)\n",
            "memory usage: 28.3+ MB\n"
          ]
        }
      ]
    },
    {
      "cell_type": "markdown",
      "source": [
        "# Préparation des features → PNG 6×6"
      ],
      "metadata": {
        "id": "lSvXYSSUaKP_"
      }
    },
    {
      "cell_type": "code",
      "source": [
        "import os\n",
        "import numpy as np\n",
        "import pandas as pd\n",
        "from PIL import Image\n",
        "from tqdm import tqdm\n",
        "from sklearn.preprocessing import MinMaxScaler\n",
        "\n",
        "# Sélection des features numériques + label\n",
        "X = df.drop(columns=[\"label\"])\n",
        "X = X.select_dtypes(include=[\"number\"])    # ne garder que les colonnes numériques\n",
        "y = df[\"label\"]\n",
        "\n",
        "# Padding dynamique pour atteindre 36 colonnes\n",
        "desired_features = 36\n",
        "current_features = X.shape[1]\n",
        "pads_needed = desired_features - current_features\n",
        "for i in range(pads_needed):\n",
        "    X[f\"pad{i}\"] = 0\n",
        "\n",
        "# Normalisation entre 0 et 255\n",
        "scaler = MinMaxScaler(feature_range=(0, 255))\n",
        "X_scaled = scaler.fit_transform(X).astype(np.uint8)\n",
        "\n",
        "# Création des répertoires images\n",
        "os.makedirs(\"images/normal\", exist_ok=True)\n",
        "os.makedirs(\"images/attack\", exist_ok=True)\n",
        "\n",
        "# Génération des images PNG 6×6\n",
        "for i in tqdm(range(len(X_scaled)), desc=\"Génération PNG\"):\n",
        "    img = Image.fromarray(X_scaled[i].reshape(6, 6), mode=\"L\")\n",
        "    cls = \"normal\" if y.iloc[i] == 0 else \"attack\"\n",
        "    img.save(f\"images/{cls}/{i}.png\")"
      ],
      "metadata": {
        "colab": {
          "base_uri": "https://localhost:8080/"
        },
        "id": "4jFtbiT0aMg0",
        "outputId": "8e80d217-4c72-413b-e1f9-c91b01db5713"
      },
      "execution_count": null,
      "outputs": [
        {
          "output_type": "stream",
          "name": "stderr",
          "text": [
            "Génération PNG:   0%|          | 0/257673 [00:00<?, ?it/s]/tmp/ipython-input-11-2342456150.py:30: DeprecationWarning: 'mode' parameter is deprecated and will be removed in Pillow 13 (2026-10-15)\n",
            "  img = Image.fromarray(X_scaled[i].reshape(6, 6), mode=\"L\")\n",
            "Génération PNG: 100%|██████████| 257673/257673 [00:49<00:00, 5179.03it/s]\n"
          ]
        }
      ]
    },
    {
      "cell_type": "markdown",
      "source": [
        "# Chargement des datasets TensorFlow (0–1)"
      ],
      "metadata": {
        "id": "WnlEvwBKZgQE"
      }
    },
    {
      "cell_type": "code",
      "source": [
        "batch_size = 64\n",
        "img_size = (6, 6)\n",
        "data_dir = \"images\"\n",
        "\n",
        "# — Training set —\n",
        "raw_train = tf.keras.utils.image_dataset_from_directory(\n",
        "    data_dir,\n",
        "    validation_split=0.2,\n",
        "    subset=\"training\",\n",
        "    seed=42,\n",
        "    label_mode=\"binary\",\n",
        "    class_names=[\"normal\",\"attack\"],\n",
        "    batch_size=batch_size,\n",
        "    image_size=img_size,\n",
        "    color_mode=\"grayscale\"\n",
        ")\n",
        "\n",
        "# — Validation set —\n",
        "raw_val = tf.keras.utils.image_dataset_from_directory(\n",
        "    data_dir,\n",
        "    validation_split=0.2,\n",
        "    subset=\"validation\",\n",
        "    seed=42,\n",
        "    label_mode=\"binary\",\n",
        "    class_names=[\"normal\",\"attack\"],\n",
        "    batch_size=batch_size,\n",
        "    image_size=img_size,\n",
        "    color_mode=\"grayscale\"\n",
        ")\n",
        "\n",
        "def normalize(images, labels):\n",
        "    return images / 255.0, labels\n",
        "\n",
        "train_ds = raw_train.map(normalize).cache().prefetch(tf.data.AUTOTUNE)\n",
        "val_ds   = raw_val.map(normalize).cache().prefetch(tf.data.AUTOTUNE)"
      ],
      "metadata": {
        "colab": {
          "base_uri": "https://localhost:8080/"
        },
        "id": "0xo50CkNZisu",
        "outputId": "46546047-98c6-4aa3-ea8a-63e4aaf5d837"
      },
      "execution_count": 28,
      "outputs": [
        {
          "output_type": "stream",
          "name": "stdout",
          "text": [
            "Found 257673 files belonging to 2 classes.\n",
            "Using 206139 files for training.\n",
            "Found 257673 files belonging to 2 classes.\n",
            "Using 51534 files for validation.\n"
          ]
        }
      ]
    },
    {
      "cell_type": "markdown",
      "source": [
        "# Définition du CNN"
      ],
      "metadata": {
        "id": "XLdDnKQqKKr1"
      }
    },
    {
      "cell_type": "code",
      "source": [
        "model = models.Sequential([\n",
        "    layers.Input(shape=(6, 6, 1)),\n",
        "    layers.Conv2D(32, (3,3), activation=\"relu\", padding=\"same\"),\n",
        "    layers.MaxPool2D(),\n",
        "    layers.Conv2D(64, (3,3), activation=\"relu\", padding=\"same\"),\n",
        "    layers.MaxPool2D(),\n",
        "    layers.Flatten(),\n",
        "    layers.Dense(64, activation=\"relu\"),\n",
        "    layers.Dropout(0.3),\n",
        "    layers.Dense(1, activation=\"sigmoid\")\n",
        "])\n",
        "\n",
        "model.compile(optimizer=\"adam\", loss=\"binary_crossentropy\", metrics=[\"accuracy\"])\n",
        "model.summary()"
      ],
      "metadata": {
        "colab": {
          "base_uri": "https://localhost:8080/",
          "height": 385
        },
        "id": "72deKIv6LIly",
        "outputId": "c53d10c7-c543-4869-8c50-bf8b7cdac40b"
      },
      "execution_count": 29,
      "outputs": [
        {
          "output_type": "display_data",
          "data": {
            "text/plain": [
              "\u001b[1mModel: \"sequential_1\"\u001b[0m\n"
            ],
            "text/html": [
              "<pre style=\"white-space:pre;overflow-x:auto;line-height:normal;font-family:Menlo,'DejaVu Sans Mono',consolas,'Courier New',monospace\"><span style=\"font-weight: bold\">Model: \"sequential_1\"</span>\n",
              "</pre>\n"
            ]
          },
          "metadata": {}
        },
        {
          "output_type": "display_data",
          "data": {
            "text/plain": [
              "┏━━━━━━━━━━━━━━━━━━━━━━━━━━━━━━━━━┳━━━━━━━━━━━━━━━━━━━━━━━━┳━━━━━━━━━━━━━━━┓\n",
              "┃\u001b[1m \u001b[0m\u001b[1mLayer (type)                   \u001b[0m\u001b[1m \u001b[0m┃\u001b[1m \u001b[0m\u001b[1mOutput Shape          \u001b[0m\u001b[1m \u001b[0m┃\u001b[1m \u001b[0m\u001b[1m      Param #\u001b[0m\u001b[1m \u001b[0m┃\n",
              "┡━━━━━━━━━━━━━━━━━━━━━━━━━━━━━━━━━╇━━━━━━━━━━━━━━━━━━━━━━━━╇━━━━━━━━━━━━━━━┩\n",
              "│ conv2d_2 (\u001b[38;5;33mConv2D\u001b[0m)               │ (\u001b[38;5;45mNone\u001b[0m, \u001b[38;5;34m6\u001b[0m, \u001b[38;5;34m6\u001b[0m, \u001b[38;5;34m32\u001b[0m)       │           \u001b[38;5;34m320\u001b[0m │\n",
              "├─────────────────────────────────┼────────────────────────┼───────────────┤\n",
              "│ max_pooling2d_2 (\u001b[38;5;33mMaxPooling2D\u001b[0m)  │ (\u001b[38;5;45mNone\u001b[0m, \u001b[38;5;34m3\u001b[0m, \u001b[38;5;34m3\u001b[0m, \u001b[38;5;34m32\u001b[0m)       │             \u001b[38;5;34m0\u001b[0m │\n",
              "├─────────────────────────────────┼────────────────────────┼───────────────┤\n",
              "│ conv2d_3 (\u001b[38;5;33mConv2D\u001b[0m)               │ (\u001b[38;5;45mNone\u001b[0m, \u001b[38;5;34m3\u001b[0m, \u001b[38;5;34m3\u001b[0m, \u001b[38;5;34m64\u001b[0m)       │        \u001b[38;5;34m18,496\u001b[0m │\n",
              "├─────────────────────────────────┼────────────────────────┼───────────────┤\n",
              "│ max_pooling2d_3 (\u001b[38;5;33mMaxPooling2D\u001b[0m)  │ (\u001b[38;5;45mNone\u001b[0m, \u001b[38;5;34m1\u001b[0m, \u001b[38;5;34m1\u001b[0m, \u001b[38;5;34m64\u001b[0m)       │             \u001b[38;5;34m0\u001b[0m │\n",
              "├─────────────────────────────────┼────────────────────────┼───────────────┤\n",
              "│ flatten_1 (\u001b[38;5;33mFlatten\u001b[0m)             │ (\u001b[38;5;45mNone\u001b[0m, \u001b[38;5;34m64\u001b[0m)             │             \u001b[38;5;34m0\u001b[0m │\n",
              "├─────────────────────────────────┼────────────────────────┼───────────────┤\n",
              "│ dense_2 (\u001b[38;5;33mDense\u001b[0m)                 │ (\u001b[38;5;45mNone\u001b[0m, \u001b[38;5;34m64\u001b[0m)             │         \u001b[38;5;34m4,160\u001b[0m │\n",
              "├─────────────────────────────────┼────────────────────────┼───────────────┤\n",
              "│ dropout_1 (\u001b[38;5;33mDropout\u001b[0m)             │ (\u001b[38;5;45mNone\u001b[0m, \u001b[38;5;34m64\u001b[0m)             │             \u001b[38;5;34m0\u001b[0m │\n",
              "├─────────────────────────────────┼────────────────────────┼───────────────┤\n",
              "│ dense_3 (\u001b[38;5;33mDense\u001b[0m)                 │ (\u001b[38;5;45mNone\u001b[0m, \u001b[38;5;34m1\u001b[0m)              │            \u001b[38;5;34m65\u001b[0m │\n",
              "└─────────────────────────────────┴────────────────────────┴───────────────┘\n"
            ],
            "text/html": [
              "<pre style=\"white-space:pre;overflow-x:auto;line-height:normal;font-family:Menlo,'DejaVu Sans Mono',consolas,'Courier New',monospace\">┏━━━━━━━━━━━━━━━━━━━━━━━━━━━━━━━━━┳━━━━━━━━━━━━━━━━━━━━━━━━┳━━━━━━━━━━━━━━━┓\n",
              "┃<span style=\"font-weight: bold\"> Layer (type)                    </span>┃<span style=\"font-weight: bold\"> Output Shape           </span>┃<span style=\"font-weight: bold\">       Param # </span>┃\n",
              "┡━━━━━━━━━━━━━━━━━━━━━━━━━━━━━━━━━╇━━━━━━━━━━━━━━━━━━━━━━━━╇━━━━━━━━━━━━━━━┩\n",
              "│ conv2d_2 (<span style=\"color: #0087ff; text-decoration-color: #0087ff\">Conv2D</span>)               │ (<span style=\"color: #00d7ff; text-decoration-color: #00d7ff\">None</span>, <span style=\"color: #00af00; text-decoration-color: #00af00\">6</span>, <span style=\"color: #00af00; text-decoration-color: #00af00\">6</span>, <span style=\"color: #00af00; text-decoration-color: #00af00\">32</span>)       │           <span style=\"color: #00af00; text-decoration-color: #00af00\">320</span> │\n",
              "├─────────────────────────────────┼────────────────────────┼───────────────┤\n",
              "│ max_pooling2d_2 (<span style=\"color: #0087ff; text-decoration-color: #0087ff\">MaxPooling2D</span>)  │ (<span style=\"color: #00d7ff; text-decoration-color: #00d7ff\">None</span>, <span style=\"color: #00af00; text-decoration-color: #00af00\">3</span>, <span style=\"color: #00af00; text-decoration-color: #00af00\">3</span>, <span style=\"color: #00af00; text-decoration-color: #00af00\">32</span>)       │             <span style=\"color: #00af00; text-decoration-color: #00af00\">0</span> │\n",
              "├─────────────────────────────────┼────────────────────────┼───────────────┤\n",
              "│ conv2d_3 (<span style=\"color: #0087ff; text-decoration-color: #0087ff\">Conv2D</span>)               │ (<span style=\"color: #00d7ff; text-decoration-color: #00d7ff\">None</span>, <span style=\"color: #00af00; text-decoration-color: #00af00\">3</span>, <span style=\"color: #00af00; text-decoration-color: #00af00\">3</span>, <span style=\"color: #00af00; text-decoration-color: #00af00\">64</span>)       │        <span style=\"color: #00af00; text-decoration-color: #00af00\">18,496</span> │\n",
              "├─────────────────────────────────┼────────────────────────┼───────────────┤\n",
              "│ max_pooling2d_3 (<span style=\"color: #0087ff; text-decoration-color: #0087ff\">MaxPooling2D</span>)  │ (<span style=\"color: #00d7ff; text-decoration-color: #00d7ff\">None</span>, <span style=\"color: #00af00; text-decoration-color: #00af00\">1</span>, <span style=\"color: #00af00; text-decoration-color: #00af00\">1</span>, <span style=\"color: #00af00; text-decoration-color: #00af00\">64</span>)       │             <span style=\"color: #00af00; text-decoration-color: #00af00\">0</span> │\n",
              "├─────────────────────────────────┼────────────────────────┼───────────────┤\n",
              "│ flatten_1 (<span style=\"color: #0087ff; text-decoration-color: #0087ff\">Flatten</span>)             │ (<span style=\"color: #00d7ff; text-decoration-color: #00d7ff\">None</span>, <span style=\"color: #00af00; text-decoration-color: #00af00\">64</span>)             │             <span style=\"color: #00af00; text-decoration-color: #00af00\">0</span> │\n",
              "├─────────────────────────────────┼────────────────────────┼───────────────┤\n",
              "│ dense_2 (<span style=\"color: #0087ff; text-decoration-color: #0087ff\">Dense</span>)                 │ (<span style=\"color: #00d7ff; text-decoration-color: #00d7ff\">None</span>, <span style=\"color: #00af00; text-decoration-color: #00af00\">64</span>)             │         <span style=\"color: #00af00; text-decoration-color: #00af00\">4,160</span> │\n",
              "├─────────────────────────────────┼────────────────────────┼───────────────┤\n",
              "│ dropout_1 (<span style=\"color: #0087ff; text-decoration-color: #0087ff\">Dropout</span>)             │ (<span style=\"color: #00d7ff; text-decoration-color: #00d7ff\">None</span>, <span style=\"color: #00af00; text-decoration-color: #00af00\">64</span>)             │             <span style=\"color: #00af00; text-decoration-color: #00af00\">0</span> │\n",
              "├─────────────────────────────────┼────────────────────────┼───────────────┤\n",
              "│ dense_3 (<span style=\"color: #0087ff; text-decoration-color: #0087ff\">Dense</span>)                 │ (<span style=\"color: #00d7ff; text-decoration-color: #00d7ff\">None</span>, <span style=\"color: #00af00; text-decoration-color: #00af00\">1</span>)              │            <span style=\"color: #00af00; text-decoration-color: #00af00\">65</span> │\n",
              "└─────────────────────────────────┴────────────────────────┴───────────────┘\n",
              "</pre>\n"
            ]
          },
          "metadata": {}
        },
        {
          "output_type": "display_data",
          "data": {
            "text/plain": [
              "\u001b[1m Total params: \u001b[0m\u001b[38;5;34m23,041\u001b[0m (90.00 KB)\n"
            ],
            "text/html": [
              "<pre style=\"white-space:pre;overflow-x:auto;line-height:normal;font-family:Menlo,'DejaVu Sans Mono',consolas,'Courier New',monospace\"><span style=\"font-weight: bold\"> Total params: </span><span style=\"color: #00af00; text-decoration-color: #00af00\">23,041</span> (90.00 KB)\n",
              "</pre>\n"
            ]
          },
          "metadata": {}
        },
        {
          "output_type": "display_data",
          "data": {
            "text/plain": [
              "\u001b[1m Trainable params: \u001b[0m\u001b[38;5;34m23,041\u001b[0m (90.00 KB)\n"
            ],
            "text/html": [
              "<pre style=\"white-space:pre;overflow-x:auto;line-height:normal;font-family:Menlo,'DejaVu Sans Mono',consolas,'Courier New',monospace\"><span style=\"font-weight: bold\"> Trainable params: </span><span style=\"color: #00af00; text-decoration-color: #00af00\">23,041</span> (90.00 KB)\n",
              "</pre>\n"
            ]
          },
          "metadata": {}
        },
        {
          "output_type": "display_data",
          "data": {
            "text/plain": [
              "\u001b[1m Non-trainable params: \u001b[0m\u001b[38;5;34m0\u001b[0m (0.00 B)\n"
            ],
            "text/html": [
              "<pre style=\"white-space:pre;overflow-x:auto;line-height:normal;font-family:Menlo,'DejaVu Sans Mono',consolas,'Courier New',monospace\"><span style=\"font-weight: bold\"> Non-trainable params: </span><span style=\"color: #00af00; text-decoration-color: #00af00\">0</span> (0.00 B)\n",
              "</pre>\n"
            ]
          },
          "metadata": {}
        }
      ]
    },
    {
      "cell_type": "markdown",
      "source": [
        "# Entraînement"
      ],
      "metadata": {
        "id": "0M2z-KHbLSc6"
      }
    },
    {
      "cell_type": "code",
      "source": [
        "early_stop = EarlyStopping(monitor=\"val_loss\", patience=5, restore_best_weights=True)\n",
        "\n",
        "history = model.fit(\n",
        "    train_ds,\n",
        "    validation_data=val_ds,\n",
        "    epochs=30,\n",
        "    callbacks=[early_stop]\n",
        ")"
      ],
      "metadata": {
        "colab": {
          "base_uri": "https://localhost:8080/"
        },
        "id": "zx1oWv_ILwP5",
        "outputId": "b7574a89-72e3-4b00-89d3-e141537b025b"
      },
      "execution_count": 30,
      "outputs": [
        {
          "output_type": "stream",
          "name": "stdout",
          "text": [
            "Epoch 1/30\n",
            "\u001b[1m3221/3221\u001b[0m \u001b[32m━━━━━━━━━━━━━━━━━━━━\u001b[0m\u001b[37m\u001b[0m \u001b[1m33s\u001b[0m 10ms/step - accuracy: 0.7998 - loss: 0.3843 - val_accuracy: 0.8918 - val_loss: 0.2137\n",
            "Epoch 2/30\n",
            "\u001b[1m3221/3221\u001b[0m \u001b[32m━━━━━━━━━━━━━━━━━━━━\u001b[0m\u001b[37m\u001b[0m \u001b[1m20s\u001b[0m 4ms/step - accuracy: 0.8894 - loss: 0.2190 - val_accuracy: 0.8982 - val_loss: 0.2002\n",
            "Epoch 3/30\n",
            "\u001b[1m3221/3221\u001b[0m \u001b[32m━━━━━━━━━━━━━━━━━━━━\u001b[0m\u001b[37m\u001b[0m \u001b[1m10s\u001b[0m 3ms/step - accuracy: 0.8945 - loss: 0.2044 - val_accuracy: 0.9024 - val_loss: 0.1886\n",
            "Epoch 4/30\n",
            "\u001b[1m3221/3221\u001b[0m \u001b[32m━━━━━━━━━━━━━━━━━━━━\u001b[0m\u001b[37m\u001b[0m \u001b[1m10s\u001b[0m 3ms/step - accuracy: 0.8995 - loss: 0.1946 - val_accuracy: 0.9042 - val_loss: 0.1796\n",
            "Epoch 5/30\n",
            "\u001b[1m3221/3221\u001b[0m \u001b[32m━━━━━━━━━━━━━━━━━━━━\u001b[0m\u001b[37m\u001b[0m \u001b[1m10s\u001b[0m 3ms/step - accuracy: 0.9018 - loss: 0.1866 - val_accuracy: 0.9061 - val_loss: 0.1749\n",
            "Epoch 6/30\n",
            "\u001b[1m3221/3221\u001b[0m \u001b[32m━━━━━━━━━━━━━━━━━━━━\u001b[0m\u001b[37m\u001b[0m \u001b[1m9s\u001b[0m 3ms/step - accuracy: 0.9046 - loss: 0.1806 - val_accuracy: 0.9080 - val_loss: 0.1724\n",
            "Epoch 7/30\n",
            "\u001b[1m3221/3221\u001b[0m \u001b[32m━━━━━━━━━━━━━━━━━━━━\u001b[0m\u001b[37m\u001b[0m \u001b[1m9s\u001b[0m 3ms/step - accuracy: 0.9056 - loss: 0.1770 - val_accuracy: 0.9073 - val_loss: 0.1718\n",
            "Epoch 8/30\n",
            "\u001b[1m3221/3221\u001b[0m \u001b[32m━━━━━━━━━━━━━━━━━━━━\u001b[0m\u001b[37m\u001b[0m \u001b[1m10s\u001b[0m 3ms/step - accuracy: 0.9067 - loss: 0.1753 - val_accuracy: 0.9108 - val_loss: 0.1684\n",
            "Epoch 9/30\n",
            "\u001b[1m3221/3221\u001b[0m \u001b[32m━━━━━━━━━━━━━━━━━━━━\u001b[0m\u001b[37m\u001b[0m \u001b[1m20s\u001b[0m 3ms/step - accuracy: 0.9080 - loss: 0.1733 - val_accuracy: 0.9105 - val_loss: 0.1651\n",
            "Epoch 10/30\n",
            "\u001b[1m3221/3221\u001b[0m \u001b[32m━━━━━━━━━━━━━━━━━━━━\u001b[0m\u001b[37m\u001b[0m \u001b[1m10s\u001b[0m 3ms/step - accuracy: 0.9089 - loss: 0.1717 - val_accuracy: 0.9107 - val_loss: 0.1679\n",
            "Epoch 11/30\n",
            "\u001b[1m3221/3221\u001b[0m \u001b[32m━━━━━━━━━━━━━━━━━━━━\u001b[0m\u001b[37m\u001b[0m \u001b[1m10s\u001b[0m 3ms/step - accuracy: 0.9099 - loss: 0.1703 - val_accuracy: 0.9123 - val_loss: 0.1647\n",
            "Epoch 12/30\n",
            "\u001b[1m3221/3221\u001b[0m \u001b[32m━━━━━━━━━━━━━━━━━━━━\u001b[0m\u001b[37m\u001b[0m \u001b[1m9s\u001b[0m 3ms/step - accuracy: 0.9099 - loss: 0.1692 - val_accuracy: 0.9094 - val_loss: 0.1689\n",
            "Epoch 13/30\n",
            "\u001b[1m3221/3221\u001b[0m \u001b[32m━━━━━━━━━━━━━━━━━━━━\u001b[0m\u001b[37m\u001b[0m \u001b[1m10s\u001b[0m 3ms/step - accuracy: 0.9108 - loss: 0.1680 - val_accuracy: 0.9119 - val_loss: 0.1645\n",
            "Epoch 14/30\n",
            "\u001b[1m3221/3221\u001b[0m \u001b[32m━━━━━━━━━━━━━━━━━━━━\u001b[0m\u001b[37m\u001b[0m \u001b[1m10s\u001b[0m 3ms/step - accuracy: 0.9118 - loss: 0.1671 - val_accuracy: 0.9105 - val_loss: 0.1645\n",
            "Epoch 15/30\n",
            "\u001b[1m3221/3221\u001b[0m \u001b[32m━━━━━━━━━━━━━━━━━━━━\u001b[0m\u001b[37m\u001b[0m \u001b[1m10s\u001b[0m 3ms/step - accuracy: 0.9126 - loss: 0.1661 - val_accuracy: 0.9121 - val_loss: 0.1646\n",
            "Epoch 16/30\n",
            "\u001b[1m3221/3221\u001b[0m \u001b[32m━━━━━━━━━━━━━━━━━━━━\u001b[0m\u001b[37m\u001b[0m \u001b[1m9s\u001b[0m 3ms/step - accuracy: 0.9130 - loss: 0.1651 - val_accuracy: 0.9127 - val_loss: 0.1644\n",
            "Epoch 17/30\n",
            "\u001b[1m3221/3221\u001b[0m \u001b[32m━━━━━━━━━━━━━━━━━━━━\u001b[0m\u001b[37m\u001b[0m \u001b[1m10s\u001b[0m 3ms/step - accuracy: 0.9136 - loss: 0.1646 - val_accuracy: 0.9134 - val_loss: 0.1639\n",
            "Epoch 18/30\n",
            "\u001b[1m3221/3221\u001b[0m \u001b[32m━━━━━━━━━━━━━━━━━━━━\u001b[0m\u001b[37m\u001b[0m \u001b[1m11s\u001b[0m 3ms/step - accuracy: 0.9145 - loss: 0.1638 - val_accuracy: 0.9141 - val_loss: 0.1613\n",
            "Epoch 19/30\n",
            "\u001b[1m3221/3221\u001b[0m \u001b[32m━━━━━━━━━━━━━━━━━━━━\u001b[0m\u001b[37m\u001b[0m \u001b[1m10s\u001b[0m 3ms/step - accuracy: 0.9147 - loss: 0.1628 - val_accuracy: 0.9124 - val_loss: 0.1657\n",
            "Epoch 20/30\n",
            "\u001b[1m3221/3221\u001b[0m \u001b[32m━━━━━━━━━━━━━━━━━━━━\u001b[0m\u001b[37m\u001b[0m \u001b[1m10s\u001b[0m 3ms/step - accuracy: 0.9148 - loss: 0.1624 - val_accuracy: 0.9134 - val_loss: 0.1602\n",
            "Epoch 21/30\n",
            "\u001b[1m3221/3221\u001b[0m \u001b[32m━━━━━━━━━━━━━━━━━━━━\u001b[0m\u001b[37m\u001b[0m \u001b[1m10s\u001b[0m 3ms/step - accuracy: 0.9156 - loss: 0.1621 - val_accuracy: 0.9125 - val_loss: 0.1623\n",
            "Epoch 22/30\n",
            "\u001b[1m3221/3221\u001b[0m \u001b[32m━━━━━━━━━━━━━━━━━━━━\u001b[0m\u001b[37m\u001b[0m \u001b[1m10s\u001b[0m 3ms/step - accuracy: 0.9159 - loss: 0.1611 - val_accuracy: 0.9138 - val_loss: 0.1604\n",
            "Epoch 23/30\n",
            "\u001b[1m3221/3221\u001b[0m \u001b[32m━━━━━━━━━━━━━━━━━━━━\u001b[0m\u001b[37m\u001b[0m \u001b[1m10s\u001b[0m 3ms/step - accuracy: 0.9161 - loss: 0.1610 - val_accuracy: 0.9146 - val_loss: 0.1597\n",
            "Epoch 24/30\n",
            "\u001b[1m3221/3221\u001b[0m \u001b[32m━━━━━━━━━━━━━━━━━━━━\u001b[0m\u001b[37m\u001b[0m \u001b[1m10s\u001b[0m 3ms/step - accuracy: 0.9160 - loss: 0.1605 - val_accuracy: 0.9129 - val_loss: 0.1618\n",
            "Epoch 25/30\n",
            "\u001b[1m3221/3221\u001b[0m \u001b[32m━━━━━━━━━━━━━━━━━━━━\u001b[0m\u001b[37m\u001b[0m \u001b[1m10s\u001b[0m 3ms/step - accuracy: 0.9162 - loss: 0.1602 - val_accuracy: 0.9141 - val_loss: 0.1598\n",
            "Epoch 26/30\n",
            "\u001b[1m3221/3221\u001b[0m \u001b[32m━━━━━━━━━━━━━━━━━━━━\u001b[0m\u001b[37m\u001b[0m \u001b[1m10s\u001b[0m 3ms/step - accuracy: 0.9168 - loss: 0.1594 - val_accuracy: 0.9145 - val_loss: 0.1586\n",
            "Epoch 27/30\n",
            "\u001b[1m3221/3221\u001b[0m \u001b[32m━━━━━━━━━━━━━━━━━━━━\u001b[0m\u001b[37m\u001b[0m \u001b[1m10s\u001b[0m 3ms/step - accuracy: 0.9172 - loss: 0.1590 - val_accuracy: 0.9138 - val_loss: 0.1607\n",
            "Epoch 28/30\n",
            "\u001b[1m3221/3221\u001b[0m \u001b[32m━━━━━━━━━━━━━━━━━━━━\u001b[0m\u001b[37m\u001b[0m \u001b[1m9s\u001b[0m 3ms/step - accuracy: 0.9173 - loss: 0.1586 - val_accuracy: 0.9163 - val_loss: 0.1580\n",
            "Epoch 29/30\n",
            "\u001b[1m3221/3221\u001b[0m \u001b[32m━━━━━━━━━━━━━━━━━━━━\u001b[0m\u001b[37m\u001b[0m \u001b[1m11s\u001b[0m 3ms/step - accuracy: 0.9171 - loss: 0.1581 - val_accuracy: 0.9171 - val_loss: 0.1572\n",
            "Epoch 30/30\n",
            "\u001b[1m3221/3221\u001b[0m \u001b[32m━━━━━━━━━━━━━━━━━━━━\u001b[0m\u001b[37m\u001b[0m \u001b[1m10s\u001b[0m 3ms/step - accuracy: 0.9179 - loss: 0.1580 - val_accuracy: 0.9171 - val_loss: 0.1567\n"
          ]
        }
      ]
    },
    {
      "cell_type": "markdown",
      "source": [
        "# Visualisation des courbes"
      ],
      "metadata": {
        "id": "fCZW37xda4-b"
      }
    },
    {
      "cell_type": "code",
      "source": [
        "plt.figure()\n",
        "plt.plot(history.history[\"accuracy\"], label=\"train_acc\")\n",
        "plt.plot(history.history[\"val_accuracy\"], label=\"val_acc\")\n",
        "plt.title(\"Accuracy\")\n",
        "plt.xlabel(\"Epoch\"); plt.ylabel(\"Accuracy\"); plt.legend(); plt.show()\n",
        "\n",
        "plt.figure()\n",
        "plt.plot(history.history[\"loss\"], label=\"train_loss\")\n",
        "plt.plot(history.history[\"val_loss\"], label=\"val_loss\")\n",
        "plt.title(\"Loss\")\n",
        "plt.xlabel(\"Epoch\"); plt.ylabel(\"Loss\"); plt.legend(); plt.show()"
      ],
      "metadata": {
        "colab": {
          "base_uri": "https://localhost:8080/",
          "height": 937
        },
        "id": "BTg6z9pNa4jz",
        "outputId": "256e8c01-63e6-4f73-cbfd-1c83cfb6dc77"
      },
      "execution_count": 33,
      "outputs": [
        {
          "output_type": "display_data",
          "data": {
            "text/plain": [
              "<Figure size 640x480 with 1 Axes>"
            ],
            "image/png": "[encoded data removed]"
          },
          "metadata": {}
        },
        {
          "output_type": "display_data",
          "data": {
            "text/plain": [
              "<Figure size 640x480 with 1 Axes>"
            ],
            "image/png": "[encoded data removed]"
          },
          "metadata": {}
        }
      ]
    },
    {
      "cell_type": "markdown",
      "source": [
        "# Afficher côte‑à‑côte 1 normal + 1 attack"
      ],
      "metadata": {
        "id": "MCoON_lCiJ38"
      }
    },
    {
      "cell_type": "code",
      "source": [
        "normal_path = f\"images/normal/{random.choice(normal_files)}\"\n",
        "attack_path = f\"images/attack/{random.choice(attack_files)}\"\n",
        "normal_img = Image.open(normal_path)\n",
        "attack_img = Image.open(attack_path)\n",
        "\n",
        "fig, axes = plt.subplots(1, 2, figsize=(4, 2))\n",
        "axes[0].imshow(normal_img, cmap=\"gray\", vmin=0, vmax=255)\n",
        "axes[0].set_title(\"Normal\")\n",
        "axes[0].axis(\"off\")\n",
        "\n",
        "axes[1].imshow(attack_img, cmap=\"gray\", vmin=0, vmax=255)\n",
        "axes[1].set_title(\"Attack\")\n",
        "axes[1].axis(\"off\")\n",
        "\n",
        "plt.tight_layout()\n",
        "plt.show()"
      ],
      "metadata": {
        "colab": {
          "base_uri": "https://localhost:8080/",
          "height": 213
        },
        "id": "F_0HPKuYiL-m",
        "outputId": "0ad76fb5-1ec2-427b-938e-00692c226474"
      },
      "execution_count": 51,
      "outputs": [
        {
          "output_type": "display_data",
          "data": {
            "text/plain": [
              "<Figure size 400x200 with 2 Axes>"
            ],
            "image/png": "[encoded data removed]"
          },
          "metadata": {}
        }
      ]
    },
    {
      "cell_type": "markdown",
      "source": [
        "# Prédictions avec pourcentage de confiance"
      ],
      "metadata": {
        "id": "_w42BHVCiOYF"
      }
    },
    {
      "cell_type": "code",
      "source": [
        "def predict_and_show(img_path, true_label):\n",
        "    img = Image.open(img_path)\n",
        "    arr = np.array(img).reshape(1, 6, 6, 1).astype(\"float32\") / 255.0\n",
        "    score = model.predict(arr, verbose=0)[0][0]\n",
        "    percent = score * 100 if true_label == \"attack\" else (1 - score) * 100\n",
        "    pred = \"attack\" if score > 0.5 else \"normal\"\n",
        "    plt.imshow(img, cmap=\"gray\")\n",
        "    plt.axis(\"off\")\n",
        "    plt.title(f\"True: {true_label} | Pred: {pred} ({percent:.1f}% sure)\")\n",
        "    plt.show()\n",
        "\n",
        "# Exemple NORMAL\n",
        "predict_and_show(normal_path, \"normal\")\n",
        "\n",
        "# Exemple ATTACK\n",
        "predict_and_show(attack_path, \"attack\")"
      ],
      "metadata": {
        "colab": {
          "base_uri": "https://localhost:8080/",
          "height": 841
        },
        "id": "C1s7ApSiiQ6O",
        "outputId": "2cfd7421-1631-4767-bbd7-bdea8aa8daa9"
      },
      "execution_count": 53,
      "outputs": [
        {
          "output_type": "display_data",
          "data": {
            "text/plain": [
              "<Figure size 640x480 with 1 Axes>"
            ],
            "image/png": "[encoded data removed]"
          },
          "metadata": {}
        },
        {
          "output_type": "display_data",
          "data": {
            "text/plain": [
              "<Figure size 640x480 with 1 Axes>"
            ],
            "image/png": "[encoded data removed]"
          },
          "metadata": {}
        }
      ]
    },
    {
      "cell_type": "code",
      "source": [],
      "metadata": {
        "id": "QGzseWEcizdi"
      },
      "execution_count": null,
      "outputs": []
    }
  ]
}